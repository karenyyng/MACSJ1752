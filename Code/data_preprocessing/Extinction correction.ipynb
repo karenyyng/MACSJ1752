{
 "cells": [
  {
   "cell_type": "markdown",
   "metadata": {},
   "source": [
    "We make use of [Schlafly and Finkbiner 2011](http://arxiv.org/abs/1012.4804) (S&F thereafter).\n"
   ]
  },
  {
   "cell_type": "markdown",
   "metadata": {},
   "source": [
    "## Color correction"
   ]
  },
  {
   "cell_type": "markdown",
   "metadata": {},
   "source": [
    "The recommended extinction correction in each color stated in the intro is:\n",
    "\n",
    "\\begin{equation}\n",
    "E(B-V) = 0.86 E(B-V)_{SFD} \n",
    "\\end{equation} \n",
    "where the LHS would be the interpolated values,    \n",
    "the RHS would be the Schlegel 98 value\n",
    "\n",
    "\\begin{align}\n",
    "R_{a - b} = \\frac{E(a - b)}{E(B-V)_{SFD}}\n",
    "\\end{align}\n",
    "\n",
    "with\n",
    "\n",
    "\\begin{equation}\n",
    "R_{a - b} = \n",
    "\\begin{cases}\n",
    "0.98 \\pm 0.02 \\text{  for g - r}\\\\\n",
    "0.55 \\pm 0.01 \\text{ for r - i}\n",
    "\\end{cases}\n",
    "\\end{equation}\n",
    "From table 3 of S&F 2011"
   ]
  },
  {
   "cell_type": "markdown",
   "metadata": {},
   "source": [
    "## Magnitude correction by bandpass (appendix of S&F)"
   ]
  },
  {
   "cell_type": "markdown",
   "metadata": {},
   "source": [
    "Below Table 6 on p. 12 S&F gives the\n",
    "\\begin{equation} \n",
    "\\end{equation}"
   ]
  },
  {
   "cell_type": "markdown",
   "metadata": {},
   "source": [
    "\\begin{equation}\n",
    "\\Delta m_b / E(B-V) = \n",
    "\\begin{cases}\n",
    "3.303 \\text{  g band}\\\\\n",
    "2.285 \\text{  r band}\\\\\n",
    "1.698 \\text{  i band} \n",
    "\\end{cases}\n",
    "\\end{equation}\n",
    "\n",
    "which I believe stands for\n",
    "\\begin{equation}\n",
    "\\Delta m_b = m_{obs} - m_{true}\n",
    "\\end{equation}"
   ]
  },
  {
   "cell_type": "markdown",
   "metadata": {},
   "source": [
    "but these are for SDSS bands "
   ]
  },
  {
   "cell_type": "markdown",
   "metadata": {},
   "source": [
    "An online tool that one can use instead of writing these out is at\n",
    "[this website](http://irsa.ipac.caltech.edu/applications/DUST/)."
   ]
  },
  {
   "cell_type": "markdown",
   "metadata": {},
   "source": [
    "# begin reading in the different color / band data"
   ]
  },
  {
   "cell_type": "code",
   "execution_count": 1,
   "metadata": {
    "collapsed": true
   },
   "outputs": [],
   "source": []
  },
  {
   "cell_type": "code",
   "execution_count": null,
   "metadata": {
    "collapsed": true
   },
   "outputs": [],
   "source": []
  }
 ],
 "metadata": {
  "kernelspec": {
   "display_name": "Python 2",
   "language": "python",
   "name": "python2"
  },
  "language_info": {
   "codemirror_mode": {
    "name": "ipython",
    "version": 2
   },
   "file_extension": ".py",
   "mimetype": "text/x-python",
   "name": "python",
   "nbconvert_exporter": "python",
   "pygments_lexer": "ipython2",
   "version": "2.7.9"
  }
 },
 "nbformat": 4,
 "nbformat_minor": 0
}
