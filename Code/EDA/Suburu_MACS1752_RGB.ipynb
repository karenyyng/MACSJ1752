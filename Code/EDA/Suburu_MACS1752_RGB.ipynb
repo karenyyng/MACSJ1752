{
 "cells": [
  {
   "cell_type": "code",
   "execution_count": 3,
   "metadata": {
    "collapsed": false
   },
   "outputs": [
    {
     "data": {
      "application/javascript": [
       "IPython.notebook.set_autosave_interval(60000)"
      ]
     },
     "metadata": {},
     "output_type": "display_data"
    },
    {
     "name": "stdout",
     "output_type": "stream",
     "text": [
      "Autosaving every 60 seconds\n"
     ]
    }
   ],
   "source": [
    "%autosave 60\n",
    "%matplotlib inline"
   ]
  },
  {
   "cell_type": "code",
   "execution_count": 21,
   "metadata": {
    "collapsed": false
   },
   "outputs": [],
   "source": [
    "from __future__ import division \n",
    "import os\n",
    "import ds9\n",
    "import pyfits\n",
    "from astropy.coordinates import ICRS\n",
    "from astropy.coordinates import Angle\n",
    "import matplotlib.pyplot as plt\n",
    "from astropy.io import fits\n",
    "d = ds9.ds9()\n",
    "import aplpy"
   ]
  },
  {
   "cell_type": "code",
   "execution_count": 22,
   "metadata": {
    "collapsed": false
   },
   "outputs": [
    {
     "name": "stdout",
     "output_type": "stream",
     "text": [
      "G.cat               I.fits              R.fits              RGB_Subaru_2d.fits  p358Dust.fits\r\n",
      "G.fits              I.fits.fz           R.fits.fz           R_cropped.fits\r\n",
      "G.fits.fz           I_cropped.fits      R.shape             Rshape_processed.h5\r\n",
      "G_cropped.fits      MACS1752.png        RGB.fits            crop_fits.md\r\n",
      "I.cat               R.cat               RGB_Subaru.fits     \u001b[31mcrop_fits.sh\u001b[m\u001b[m\r\n"
     ]
    }
   ],
   "source": [
    "!ls ../../Data/Subaru_data/"
   ]
  },
  {
   "cell_type": "code",
   "execution_count": 8,
   "metadata": {
    "collapsed": false
   },
   "outputs": [],
   "source": [
    "path = \"../../Data/Subaru_data/\"\n",
    "fit_append = [\"I\", \"R\", \"G\"]\n",
    "Hfits = [path + \"{0}_cropped.fits\".format(prefix) \n",
    "         for prefix in fit_append]"
   ]
  },
  {
   "cell_type": "markdown",
   "metadata": {},
   "source": [
    "smaller range brighter in color"
   ]
  },
  {
   "cell_type": "code",
   "execution_count": 9,
   "metadata": {
    "collapsed": false
   },
   "outputs": [],
   "source": [
    "def visualize_fits_in_ds9(\n",
    "    d, channel, this_fits, scale_low, scale_high, scale_method=None):\n",
    "    \"\"\"\n",
    "    d = ds9 instance \n",
    "    channel = string - either \"red\", \"green\" or \"blue\" \n",
    "    this_fits = string - relative path to fits file \n",
    "    scale_method = string - \"zscale\" or \"linear\" etc. \n",
    "    scale_low = float - lower cut off for scale parameter \n",
    "    scale_high = float - upperer cut off for scale parameter \n",
    "    \"\"\"\n",
    "    d.set(\"rgb \" + channel)\n",
    "    fits = os.path.realpath(this_fits)\n",
    "    d.set(\"file \" + fits)\n",
    "    if scale_method is not None:\n",
    "        d.set(\"scale \" + scale_method)\n",
    "    d.set(\"scale limits {0} {1}\".format(scale_low, scale_high))"
   ]
  },
  {
   "cell_type": "markdown",
   "metadata": {},
   "source": [
    "# new frames"
   ]
  },
  {
   "cell_type": "code",
   "execution_count": 10,
   "metadata": {
    "collapsed": false
   },
   "outputs": [
    {
     "data": {
      "text/plain": [
       "['../../Data/Subaru_data/I_cropped.fits',\n",
       " '../../Data/Subaru_data/R_cropped.fits',\n",
       " '../../Data/Subaru_data/G_cropped.fits']"
      ]
     },
     "execution_count": 10,
     "metadata": {},
     "output_type": "execute_result"
    }
   ],
   "source": [
    "Hfits"
   ]
  },
  {
   "cell_type": "markdown",
   "metadata": {},
   "source": [
    "# new RGB frames"
   ]
  },
  {
   "cell_type": "code",
   "execution_count": 26,
   "metadata": {
    "collapsed": false
   },
   "outputs": [
    {
     "data": {
      "text/plain": [
       "1"
      ]
     },
     "execution_count": 26,
     "metadata": {},
     "output_type": "execute_result"
    }
   ],
   "source": [
    "d = ds9.ds9()\n",
    "d.set(\"frame delete all\")\n",
    "d.set(\"frame new rgb\")"
   ]
  },
  {
   "cell_type": "code",
   "execution_count": 27,
   "metadata": {
    "collapsed": false
   },
   "outputs": [],
   "source": [
    "visualize_fits_in_ds9(d, \"red\", Hfits[0], -0.15, 250, scale_method=\"log\")"
   ]
  },
  {
   "cell_type": "code",
   "execution_count": 28,
   "metadata": {
    "collapsed": false
   },
   "outputs": [],
   "source": [
    "visualize_fits_in_ds9(d, \"green\", Hfits[1], -0.15, 250, scale_method=\"log\")"
   ]
  },
  {
   "cell_type": "code",
   "execution_count": 29,
   "metadata": {
    "collapsed": false
   },
   "outputs": [],
   "source": [
    "visualize_fits_in_ds9(d, \"blue\", Hfits[2], -0.15, 250, scale_method=\"log\")"
   ]
  },
  {
   "cell_type": "code",
   "execution_count": 15,
   "metadata": {
    "collapsed": false
   },
   "outputs": [
    {
     "data": {
      "text/plain": [
       "1"
      ]
     },
     "execution_count": 15,
     "metadata": {},
     "output_type": "execute_result"
    }
   ],
   "source": [
    "# d.set(\"wcs align yes\")\n",
    "d.set(\"zoom to fit\")"
   ]
  },
  {
   "cell_type": "markdown",
   "metadata": {},
   "source": [
    "# make RGB fits"
   ]
  },
  {
   "cell_type": "code",
   "execution_count": 19,
   "metadata": {
    "collapsed": false
   },
   "outputs": [
    {
     "data": {
      "text/plain": [
       "'../../Data/Subaru_data/'"
      ]
     },
     "execution_count": 19,
     "metadata": {},
     "output_type": "execute_result"
    }
   ],
   "source": [
    "path"
   ]
  },
  {
   "cell_type": "code",
   "execution_count": 18,
   "metadata": {
    "collapsed": false
   },
   "outputs": [
    {
     "name": "stderr",
     "output_type": "stream",
     "text": [
      "INFO:astropy:Deleting work directory /var/folders/jn/vjpg99cj1tv00qwtp42ysq2w0000gn/T/tmpaN05BX\n"
     ]
    },
    {
     "name": "stdout",
     "output_type": "stream",
     "text": [
      "INFO: Deleting work directory /var/folders/jn/vjpg99cj1tv00qwtp42ysq2w0000gn/T/tmpaN05BX [montage_wrapper.wrappers]\n",
      "INFO"
     ]
    },
    {
     "name": "stderr",
     "output_type": "stream",
     "text": [
      "INFO:astropy:Deleting work directory /var/folders/jn/vjpg99cj1tv00qwtp42ysq2w0000gn/T/tmpBBnE2s\n"
     ]
    },
    {
     "name": "stdout",
     "output_type": "stream",
     "text": [
      ": Deleting work directory /var/folders/jn/vjpg99cj1tv00qwtp42ysq2w0000gn/T/tmpBBnE2s [montage_wrapper.wrappers]\n",
      "INFO"
     ]
    },
    {
     "name": "stderr",
     "output_type": "stream",
     "text": [
      "INFO:astropy:Deleting work directory /var/folders/jn/vjpg99cj1tv00qwtp42ysq2w0000gn/T/tmp8zbXtO\n"
     ]
    },
    {
     "name": "stdout",
     "output_type": "stream",
     "text": [
      ": Deleting work directory /var/folders/jn/vjpg99cj1tv00qwtp42ysq2w0000gn/T/tmp8zbXtO [montage_wrapper.wrappers]\n"
     ]
    }
   ],
   "source": [
    "aplpy.make_rgb_cube(Hfits, path + 'RGB_Subaru.fits')"
   ]
  },
  {
   "cell_type": "code",
   "execution_count": 31,
   "metadata": {
    "collapsed": false
   },
   "outputs": [
    {
     "name": "stderr",
     "output_type": "stream",
     "text": [
      "WARNING: FITSFixedWarning: RADECSYS= 'ICRS ' / Astrometric system \n",
      "RADECSYS is non-standard, use RADESYSa. [astropy.wcs.wcs]\n",
      "WARNING:astropy:FITSFixedWarning: RADECSYS= 'ICRS ' / Astrometric system \n",
      "RADECSYS is non-standard, use RADESYSa.\n",
      "WARNING: FITSFixedWarning: 'unitfix' made the change 'Changed units: 'degree  ' -> 'deg', 'degree  ' -> 'deg''. [astropy.wcs.wcs]\n",
      "WARNING:astropy:FITSFixedWarning: 'unitfix' made the change 'Changed units: 'degree  ' -> 'deg', 'degree  ' -> 'deg''.\n",
      "/Users/karenyng/Documents/Illustris_analysis/IEnv/lib/python2.7/site-packages/aplpy/labels.py:432: UnicodeWarning: Unicode equal comparison failed to convert both arguments to Unicode - interpreting them as being unequal\n",
      "  if self.coord == x or self.axis.apl_tick_positions_world[ipos] > 0:\n"
     ]
    },
    {
     "data": {
      "image/png": "[encoded data removed]",
      "text/plain": [
       "<matplotlib.figure.Figure at 0x11398d9d0>"
      ]
     },
     "metadata": {},
     "output_type": "display_data"
    }
   ],
   "source": [
    "fig = aplpy.FITSFigure(Hfits[0])"
   ]
  },
  {
   "cell_type": "code",
   "execution_count": 33,
   "metadata": {
    "collapsed": false
   },
   "outputs": [
    {
     "ename": "ImportError",
     "evalue": "The Python Imaging Library (PIL) is required to read in RGB images",
     "output_type": "error",
     "traceback": [
      "\u001b[0;31m---------------------------------------------------------------------------\u001b[0m",
      "\u001b[0;31mImportError\u001b[0m                               Traceback (most recent call last)",
      "\u001b[0;32m<ipython-input-33-db5b5b898fd4>\u001b[0m in \u001b[0;36m<module>\u001b[0;34m()\u001b[0m\n\u001b[0;32m----> 1\u001b[0;31m \u001b[0mfig\u001b[0m\u001b[0;34m.\u001b[0m\u001b[0mshow_rgb\u001b[0m\u001b[0;34m(\u001b[0m\u001b[0mpath\u001b[0m \u001b[0;34m+\u001b[0m \u001b[0;34m\"RGB_Subaru.png\"\u001b[0m\u001b[0;34m)\u001b[0m\u001b[0;34m\u001b[0m\u001b[0m\n\u001b[0m",
      "\u001b[0;32m/Users/karenyng/Documents/Illustris_analysis/IEnv/lib/python2.7/site-packages/aplpy/core.pyc\u001b[0m in \u001b[0;36mshow_rgb\u001b[0;34m(self, filename, interpolation, vertical_flip, horizontal_flip, flip)\u001b[0m\n",
      "\u001b[0;32m/Users/karenyng/Documents/Illustris_analysis/IEnv/lib/python2.7/site-packages/aplpy/decorators.pyc\u001b[0m in \u001b[0;36m_auto_refresh\u001b[0;34m(f, *args, **kwargs)\u001b[0m\n\u001b[1;32m     23\u001b[0m     \u001b[0mmydata\u001b[0m\u001b[0;34m.\u001b[0m\u001b[0mnesting\u001b[0m \u001b[0;34m=\u001b[0m \u001b[0mgetattr\u001b[0m\u001b[0;34m(\u001b[0m\u001b[0mmydata\u001b[0m\u001b[0;34m,\u001b[0m \u001b[0;34m'nesting'\u001b[0m\u001b[0;34m,\u001b[0m \u001b[0;36m0\u001b[0m\u001b[0;34m)\u001b[0m \u001b[0;34m+\u001b[0m \u001b[0;36m1\u001b[0m\u001b[0;34m\u001b[0m\u001b[0m\n\u001b[1;32m     24\u001b[0m     \u001b[0;32mtry\u001b[0m\u001b[0;34m:\u001b[0m\u001b[0;34m\u001b[0m\u001b[0m\n\u001b[0;32m---> 25\u001b[0;31m         \u001b[0;32mreturn\u001b[0m \u001b[0mf\u001b[0m\u001b[0;34m(\u001b[0m\u001b[0;34m*\u001b[0m\u001b[0margs\u001b[0m\u001b[0;34m,\u001b[0m \u001b[0;34m**\u001b[0m\u001b[0mkwargs\u001b[0m\u001b[0;34m)\u001b[0m\u001b[0;34m\u001b[0m\u001b[0m\n\u001b[0m\u001b[1;32m     26\u001b[0m     \u001b[0;32mfinally\u001b[0m\u001b[0;34m:\u001b[0m\u001b[0;34m\u001b[0m\u001b[0m\n\u001b[1;32m     27\u001b[0m         \u001b[0mmydata\u001b[0m\u001b[0;34m.\u001b[0m\u001b[0mnesting\u001b[0m \u001b[0;34m-=\u001b[0m \u001b[0;36m1\u001b[0m\u001b[0;34m\u001b[0m\u001b[0m\n",
      "\u001b[0;32m/Users/karenyng/Documents/Illustris_analysis/IEnv/lib/python2.7/site-packages/aplpy/core.pyc\u001b[0m in \u001b[0;36mshow_rgb\u001b[0;34m(self, filename, interpolation, vertical_flip, horizontal_flip, flip)\u001b[0m\n\u001b[1;32m    794\u001b[0m                 \u001b[0;32mimport\u001b[0m \u001b[0mImage\u001b[0m\u001b[0;34m\u001b[0m\u001b[0m\n\u001b[1;32m    795\u001b[0m             \u001b[0;32mexcept\u001b[0m \u001b[0mImportError\u001b[0m\u001b[0;34m:\u001b[0m\u001b[0;34m\u001b[0m\u001b[0m\n\u001b[0;32m--> 796\u001b[0;31m                 \u001b[0;32mraise\u001b[0m \u001b[0mImportError\u001b[0m\u001b[0;34m(\u001b[0m\u001b[0;34m\"The Python Imaging Library (PIL) is required to read in RGB images\"\u001b[0m\u001b[0;34m)\u001b[0m\u001b[0;34m\u001b[0m\u001b[0m\n\u001b[0m\u001b[1;32m    797\u001b[0m \u001b[0;34m\u001b[0m\u001b[0m\n\u001b[1;32m    798\u001b[0m         \u001b[0;32mif\u001b[0m \u001b[0mflip\u001b[0m\u001b[0;34m:\u001b[0m\u001b[0;34m\u001b[0m\u001b[0m\n",
      "\u001b[0;31mImportError\u001b[0m: The Python Imaging Library (PIL) is required to read in RGB images"
     ]
    }
   ],
   "source": [
    "fig.show_rgb(path + \"RGB_Subaru.png\")"
   ]
  },
  {
   "cell_type": "code",
   "execution_count": null,
   "metadata": {
    "collapsed": true
   },
   "outputs": [],
   "source": []
  }
 ],
 "metadata": {
  "kernelspec": {
   "display_name": "Python 2",
   "language": "python",
   "name": "python2"
  },
  "language_info": {
   "codemirror_mode": {
    "name": "ipython",
    "version": 2
   },
   "file_extension": ".py",
   "mimetype": "text/x-python",
   "name": "python",
   "nbconvert_exporter": "python",
   "pygments_lexer": "ipython2",
   "version": "2.7.9"
  }
 },
 "nbformat": 4,
 "nbformat_minor": 0
}
