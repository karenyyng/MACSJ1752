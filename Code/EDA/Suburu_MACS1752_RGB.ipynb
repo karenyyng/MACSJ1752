{
 "metadata": {
  "name": "",
  "signature": "sha256:c345d1874dcb6dc79bb5d6d0578cdc2d820040640d1476c12c2bfd15c0989ed5"
 },
 "nbformat": 3,
 "nbformat_minor": 0,
 "worksheets": [
  {
   "cells": [
    {
     "cell_type": "code",
     "collapsed": false,
     "input": [
      "%autosave 60\n",
      "%matplotlib inline"
     ],
     "language": "python",
     "metadata": {},
     "outputs": [
      {
       "javascript": [
        "IPython.notebook.set_autosave_interval(60000)"
       ],
       "metadata": {},
       "output_type": "display_data"
      },
      {
       "output_type": "stream",
       "stream": "stdout",
       "text": [
        "Autosaving every 60 seconds\n"
       ]
      }
     ],
     "prompt_number": 12
    },
    {
     "cell_type": "code",
     "collapsed": false,
     "input": [
      "from __future__ import division \n",
      "import os\n",
      "import ds9\n",
      "import pyfits\n",
      "from astropy.coordinates import ICRS\n",
      "from astropy.coordinates import Angle\n",
      "import matplotlib.pyplot as plt\n",
      "from astropy.io import fits\n",
      "d = ds9.ds9()"
     ],
     "language": "python",
     "metadata": {},
     "outputs": [],
     "prompt_number": 13
    },
    {
     "cell_type": "code",
     "collapsed": false,
     "input": [
      "!ls ../../Data/Subaru_data/"
     ],
     "language": "python",
     "metadata": {},
     "outputs": [
      {
       "output_type": "stream",
       "stream": "stdout",
       "text": [
        "G.cat          G_cropped.fits I.fits.fz      R.cat          R.shape        crop_fits.md\r\n",
        "G.fits         I.cat          I_cropped.fits R.fits         RGB.fits       \u001b[31mcrop_fits.sh\u001b[m\u001b[m\r\n",
        "G.fits.fz      I.fits         MACS1752.png   R.fits.fz      R_cropped.fits p358Dust.fits\r\n"
       ]
      }
     ],
     "prompt_number": 14
    },
    {
     "cell_type": "code",
     "collapsed": false,
     "input": [
      "path = \"../../Data/Subaru_data/\"\n",
      "fit_append = [\"I\", \"R\", \"G\"]\n",
      "Hfits = [path + \"{0}_cropped.fits\".format(prefix) \n",
      "         for prefix in fit_append]"
     ],
     "language": "python",
     "metadata": {},
     "outputs": [],
     "prompt_number": 15
    },
    {
     "cell_type": "markdown",
     "metadata": {},
     "source": [
      "smaller range brighter in color"
     ]
    },
    {
     "cell_type": "code",
     "collapsed": false,
     "input": [
      "def visualize_fits_in_ds9(\n",
      "    d, channel, this_fits, scale_low, scale_high, scale_method=None):\n",
      "    \"\"\"\n",
      "    d = ds9 instance \n",
      "    channel = string - either \"red\", \"green\" or \"blue\" \n",
      "    this_fits = string - relative path to fits file \n",
      "    scale_method = string - \"zscale\" or \"linear\" etc. \n",
      "    scale_low = float - lower cut off for scale parameter \n",
      "    scale_high = float - upperer cut off for scale parameter \n",
      "    \"\"\"\n",
      "    d.set(\"rgb \" + channel)\n",
      "    fits = os.path.realpath(this_fits)\n",
      "    d.set(\"file \" + fits)\n",
      "    if scale_method is not None:\n",
      "        d.set(\"scale \" + scale_method)\n",
      "    d.set(\"scale limits {0} {1}\".format(scale_low, scale_high))"
     ],
     "language": "python",
     "metadata": {},
     "outputs": [],
     "prompt_number": 16
    },
    {
     "cell_type": "markdown",
     "metadata": {},
     "source": [
      "# new frames"
     ]
    },
    {
     "cell_type": "code",
     "collapsed": false,
     "input": [
      "Hfits"
     ],
     "language": "python",
     "metadata": {},
     "outputs": [
      {
       "metadata": {},
       "output_type": "pyout",
       "prompt_number": 17,
       "text": [
        "['../../Data/Subaru_data/I_cropped.fits',\n",
        " '../../Data/Subaru_data/R_cropped.fits',\n",
        " '../../Data/Subaru_data/G_cropped.fits']"
       ]
      }
     ],
     "prompt_number": 17
    },
    {
     "cell_type": "markdown",
     "metadata": {},
     "source": [
      "# new RGB frames"
     ]
    },
    {
     "cell_type": "code",
     "collapsed": false,
     "input": [
      "d = ds9.ds9()\n",
      "d.set(\"frame delete all\")\n",
      "d.set(\"frame new rgb\")"
     ],
     "language": "python",
     "metadata": {},
     "outputs": [
      {
       "metadata": {},
       "output_type": "pyout",
       "prompt_number": 18,
       "text": [
        "1"
       ]
      }
     ],
     "prompt_number": 18
    },
    {
     "cell_type": "code",
     "collapsed": false,
     "input": [
      "visualize_fits_in_ds9(d, \"red\", Hfits[0], -0.15, 250, scale_method=\"log\")"
     ],
     "language": "python",
     "metadata": {},
     "outputs": [],
     "prompt_number": 19
    },
    {
     "cell_type": "code",
     "collapsed": false,
     "input": [
      "visualize_fits_in_ds9(d, \"green\", Hfits[1], -0.15, 250, scale_method=\"log\")"
     ],
     "language": "python",
     "metadata": {},
     "outputs": [],
     "prompt_number": 20
    },
    {
     "cell_type": "code",
     "collapsed": false,
     "input": [
      "visualize_fits_in_ds9(d, \"blue\", Hfits[2], -0.15, 250, scale_method=\"log\")"
     ],
     "language": "python",
     "metadata": {},
     "outputs": [],
     "prompt_number": 21
    },
    {
     "cell_type": "code",
     "collapsed": false,
     "input": [
      "# d.set(\"wcs align yes\")\n",
      "d.set(\"zoom to fit\")"
     ],
     "language": "python",
     "metadata": {},
     "outputs": [
      {
       "metadata": {},
       "output_type": "pyout",
       "prompt_number": 22,
       "text": [
        "1"
       ]
      }
     ],
     "prompt_number": 22
    },
    {
     "cell_type": "code",
     "collapsed": false,
     "input": [],
     "language": "python",
     "metadata": {},
     "outputs": [],
     "prompt_number": 22
    }
   ],
   "metadata": {}
  }
 ]
}