{
 "metadata": {
  "name": "",
  "signature": "sha256:5b1713a83bb2cef2f58cca353f16fe566e7f11f464fbbd7b1c00b561cbad8589"
 },
 "nbformat": 3,
 "nbformat_minor": 0,
 "worksheets": [
  {
   "cells": [
    {
     "cell_type": "code",
     "collapsed": false,
     "input": [
      "%autosave 60\n",
      "%matplotlib inline"
     ],
     "language": "python",
     "metadata": {},
     "outputs": [
      {
       "javascript": [
        "IPython.notebook.set_autosave_interval(60000)"
       ],
       "metadata": {},
       "output_type": "display_data"
      },
      {
       "output_type": "stream",
       "stream": "stdout",
       "text": [
        "Autosaving every 60 seconds\n"
       ]
      }
     ],
     "prompt_number": 138
    },
    {
     "cell_type": "code",
     "collapsed": false,
     "input": [
      "from __future__ import division \n",
      "import os\n",
      "import ds9\n",
      "import pyfits\n",
      "from astropy.coordinates import ICRS\n",
      "from astropy.coordinates import Angle\n",
      "import matplotlib.pyplot as plt\n",
      "from astropy.io import fits\n",
      "d = ds9.ds9()"
     ],
     "language": "python",
     "metadata": {},
     "outputs": [],
     "prompt_number": 139
    },
    {
     "cell_type": "code",
     "collapsed": false,
     "input": [
      "d = ds9.ds9()"
     ],
     "language": "python",
     "metadata": {},
     "outputs": [],
     "prompt_number": 140
    },
    {
     "cell_type": "code",
     "collapsed": false,
     "input": [
      "!ls ../../Data/Subaru_data/"
     ],
     "language": "python",
     "metadata": {},
     "outputs": [
      {
       "output_type": "stream",
       "stream": "stdout",
       "text": [
        "G.cat          G_cropped.fits I.fits.fz      R.cat          R.shape        crop_fits.md\r\n",
        "G.fits         I.cat          I_cropped.fits R.fits         RGB.fits       \u001b[31mcrop_fits.sh\u001b[m\u001b[m\r\n",
        "G.fits.fz      I.fits         MACS1752.png   R.fits.fz      R_cropped.fits p358Dust.fits\r\n"
       ]
      }
     ],
     "prompt_number": 141
    },
    {
     "cell_type": "code",
     "collapsed": false,
     "input": [
      "path = \"../../Data/Subaru_data/\"\n",
      "fit_append = [\"I\", \"R\", \"G\"]\n",
      "Hfits = [path + \"{0}_cropped.fits\".format(prefix) \n",
      "         for prefix in fit_append]"
     ],
     "language": "python",
     "metadata": {},
     "outputs": [],
     "prompt_number": 142
    },
    {
     "cell_type": "markdown",
     "metadata": {},
     "source": [
      "smaller range brighter in color"
     ]
    },
    {
     "cell_type": "code",
     "collapsed": false,
     "input": [
      "def visualize_fits_in_ds9(\n",
      "    d, channel, this_fits, scale_low, scale_high, scale_method=None):\n",
      "    \"\"\"\n",
      "    d = ds9 instance \n",
      "    channel = string - either \"red\", \"green\" or \"blue\" \n",
      "    this_fits = string - relative path to fits file \n",
      "    scale_method = string - \"zscale\" or \"linear\" etc. \n",
      "    scale_low = float - lower cut off for scale parameter \n",
      "    scale_high = float - upperer cut off for scale parameter \n",
      "    \"\"\"\n",
      "    d.set(\"rgb \" + channel)\n",
      "    fits = os.path.realpath(this_fits)\n",
      "    d.set(\"file \" + fits)\n",
      "    if scale_method is not None:\n",
      "        d.set(\"scale \" + scale_method)\n",
      "    d.set(\"scale limits {0} {1}\".format(scale_low, scale_high))"
     ],
     "language": "python",
     "metadata": {},
     "outputs": [],
     "prompt_number": 143
    },
    {
     "cell_type": "markdown",
     "metadata": {},
     "source": [
      "# new frames"
     ]
    },
    {
     "cell_type": "code",
     "collapsed": false,
     "input": [
      "d.set(\"file {0}\".format(Hfits[0]))  \n",
      "d.set(\"scale limits {0} {1}\".format(0, 250))"
     ],
     "language": "python",
     "metadata": {},
     "outputs": [
      {
       "metadata": {},
       "output_type": "pyout",
       "prompt_number": 144,
       "text": [
        "1"
       ]
      }
     ],
     "prompt_number": 144
    },
    {
     "cell_type": "markdown",
     "metadata": {},
     "source": [
      "# new RGB frames"
     ]
    },
    {
     "cell_type": "code",
     "collapsed": false,
     "input": [
      "d = ds9.ds9()\n",
      "d.set(\"frame delete all\")\n",
      "d.set(\"frame new rgb\")"
     ],
     "language": "python",
     "metadata": {},
     "outputs": [
      {
       "metadata": {},
       "output_type": "pyout",
       "prompt_number": 145,
       "text": [
        "1"
       ]
      }
     ],
     "prompt_number": 145
    },
    {
     "cell_type": "code",
     "collapsed": false,
     "input": [
      "visualize_fits_in_ds9(d, \"red\", Hfits[0], -0.15, 250, scale_method=\"log\")"
     ],
     "language": "python",
     "metadata": {},
     "outputs": [],
     "prompt_number": 146
    },
    {
     "cell_type": "code",
     "collapsed": false,
     "input": [
      "visualize_fits_in_ds9(d, \"green\", Hfits[1], -0.15, 250, scale_method=\"log\")"
     ],
     "language": "python",
     "metadata": {},
     "outputs": [],
     "prompt_number": 147
    },
    {
     "cell_type": "code",
     "collapsed": false,
     "input": [
      "visualize_fits_in_ds9(d, \"blue\", Hfits[2], -0.15, 250, scale_method=\"log\")"
     ],
     "language": "python",
     "metadata": {},
     "outputs": [],
     "prompt_number": 148
    },
    {
     "cell_type": "code",
     "collapsed": false,
     "input": [
      "# d.set(\"wcs align yes\")\n",
      "d.set(\"zoom to fit\")"
     ],
     "language": "python",
     "metadata": {},
     "outputs": [
      {
       "metadata": {},
       "output_type": "pyout",
       "prompt_number": 149,
       "text": [
        "1"
       ]
      }
     ],
     "prompt_number": 149
    },
    {
     "cell_type": "code",
     "collapsed": false,
     "input": [],
     "language": "python",
     "metadata": {},
     "outputs": [],
     "prompt_number": 149
    }
   ],
   "metadata": {}
  }
 ]
}