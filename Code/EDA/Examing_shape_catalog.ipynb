{
 "metadata": {
  "name": "",
  "signature": "sha256:b987f97c44162db38b8f56992d6da4a9fe5bc260ff7a3539d504091e6354b044"
 },
 "nbformat": 3,
 "nbformat_minor": 0,
 "worksheets": [
  {
   "cells": [
    {
     "cell_type": "code",
     "collapsed": false,
     "input": [
      "%autoreload 2\n",
      "%matplotlib inline"
     ],
     "language": "python",
     "metadata": {},
     "outputs": [],
     "prompt_number": 3
    },
    {
     "cell_type": "code",
     "collapsed": false,
     "input": [
      "import pandas as pd\n",
      "from astropy.io import fits"
     ],
     "language": "python",
     "metadata": {},
     "outputs": [],
     "prompt_number": 4
    },
    {
     "cell_type": "code",
     "collapsed": false,
     "input": [
      "import astropy.wcs.wcs as wcs"
     ],
     "language": "python",
     "metadata": {},
     "outputs": [],
     "prompt_number": 5
    },
    {
     "cell_type": "heading",
     "level": 1,
     "metadata": {},
     "source": [
      "Initialize data directory"
     ]
    },
    {
     "cell_type": "code",
     "collapsed": false,
     "input": [
      "path = \"../../Data/\""
     ],
     "language": "python",
     "metadata": {},
     "outputs": [],
     "prompt_number": 6
    },
    {
     "cell_type": "code",
     "collapsed": false,
     "input": [
      "!ls $path/NE"
     ],
     "language": "python",
     "metadata": {},
     "outputs": [
      {
       "output_type": "stream",
       "stream": "stdout",
       "text": [
        "MACS1752NE.tif                MACS1752NE_814.cat            MACS1752NE_F814W_drc_sci.fits\r\n",
        "MACS1752NE_606.cat            MACS1752NE_F606W_drc_sci.fits shape_814.dat\r\n"
       ]
      }
     ],
     "prompt_number": 7
    },
    {
     "cell_type": "markdown",
     "metadata": {},
     "source": [
      "# Hubble data "
     ]
    },
    {
     "cell_type": "markdown",
     "metadata": {},
     "source": [
      "X_world and Y_world"
     ]
    },
    {
     "cell_type": "markdown",
     "metadata": {},
     "source": [
      "1 extract binary table     \n",
      "2 extract WCS from header    \n",
      "3 compute RA and DEC    \n",
      "4 figure out what the flags mean   \n",
      "5 ask James about what the DE means ... "
     ]
    },
    {
     "cell_type": "code",
     "collapsed": false,
     "input": [
      "HDataPath_NE = path + \"NE/\" \n",
      "HDataPath_SW = path + \"SW/\""
     ],
     "language": "python",
     "metadata": {},
     "outputs": [],
     "prompt_number": 10
    },
    {
     "cell_type": "code",
     "collapsed": false,
     "input": [
      "NE814shape = fits.open(HDataPath_NE + \"shape_814.dat\")\n",
      "SW814shape = fits.open(HDataPath_SW + \"shape_814.dat\")"
     ],
     "language": "python",
     "metadata": {},
     "outputs": [],
     "prompt_number": 14
    },
    {
     "cell_type": "code",
     "collapsed": false,
     "input": [
      "NE814shape[1].header"
     ],
     "language": "python",
     "metadata": {},
     "outputs": [
      {
       "metadata": {},
       "output_type": "pyout",
       "prompt_number": 13,
       "text": [
        "XTENSION= 'BINTABLE'           /Binary table written by MWRFITS v1.11           \n",
        "BITPIX  =                    8 /Required value                                  \n",
        "NAXIS   =                    2 /Required value                                  \n",
        "NAXIS1  =                   56 /Number of bytes per row                         \n",
        "NAXIS2  =                 7245 /Number of rows                                  \n",
        "PCOUNT  =                    0 /Normally 0 (no varying arrays)                  \n",
        "GCOUNT  =                    1 /Required value                                  \n",
        "TFIELDS =                   15 /Number of columns in table                      \n",
        "COMMENT                                                                         \n",
        "COMMENT  *** End of mandatory fields ***                                        \n",
        "COMMENT                                                                         \n",
        "COMMENT                                                                         \n",
        "COMMENT  *** Column names ***                                                   \n",
        "COMMENT                                                                         \n",
        "TTYPE1  = 'ID      '           /                                                \n",
        "TTYPE2  = 'X       '           /                                                \n",
        "TTYPE3  = 'Y       '           /                                                \n",
        "TTYPE4  = 'E1      '           /                                                \n",
        "TTYPE5  = 'E2      '           /                                                \n",
        "TTYPE6  = 'DE      '           /                                                \n",
        "TTYPE7  = 'FLUX_RADIUS'        /                                                \n",
        "TTYPE8  = 'A       '           /                                                \n",
        "TTYPE9  = 'B       '           /                                                \n",
        "TTYPE10 = 'THETA   '           /                                                \n",
        "TTYPE11 = 'STATUS  '           /                                                \n",
        "TTYPE12 = 'RA      '           /                                                \n",
        "TTYPE13 = 'DEC     '           /                                                \n",
        "TTYPE14 = 'FLAG    '           /                                                \n",
        "TTYPE15 = 'MERR    '           /                                                \n",
        "COMMENT                                                                         \n",
        "COMMENT  *** Column formats ***                                                 \n",
        "COMMENT                                                                         \n",
        "TFORM1  = 'J       '           /                                                \n",
        "TFORM2  = 'E       '           /                                                \n",
        "TFORM3  = 'E       '           /                                                \n",
        "TFORM4  = 'E       '           /                                                \n",
        "TFORM5  = 'E       '           /                                                \n",
        "TFORM6  = 'E       '           /                                                \n",
        "TFORM7  = 'E       '           /                                                \n",
        "TFORM8  = 'E       '           /                                                \n",
        "TFORM9  = 'E       '           /                                                \n",
        "TFORM10 = 'E       '           /                                                \n",
        "TFORM11 = 'I       '           /                                                \n",
        "TFORM12 = 'E       '           /                                                \n",
        "TFORM13 = 'E       '           /                                                \n",
        "TFORM14 = 'I       '           /                                                \n",
        "TFORM15 = 'E       '           /                                                "
       ]
      }
     ],
     "prompt_number": 13
    },
    {
     "cell_type": "code",
     "collapsed": false,
     "input": [
      "SW814shape[1].header"
     ],
     "language": "python",
     "metadata": {},
     "outputs": [
      {
       "metadata": {},
       "output_type": "pyout",
       "prompt_number": 16,
       "text": [
        "XTENSION= 'BINTABLE'           /Binary table written by MWRFITS v1.11           \n",
        "BITPIX  =                    8 /Required value                                  \n",
        "NAXIS   =                    2 /Required value                                  \n",
        "NAXIS1  =                   56 /Number of bytes per row                         \n",
        "NAXIS2  =                 4820 /Number of rows                                  \n",
        "PCOUNT  =                    0 /Normally 0 (no varying arrays)                  \n",
        "GCOUNT  =                    1 /Required value                                  \n",
        "TFIELDS =                   15 /Number of columns in table                      \n",
        "COMMENT                                                                         \n",
        "COMMENT  *** End of mandatory fields ***                                        \n",
        "COMMENT                                                                         \n",
        "COMMENT                                                                         \n",
        "COMMENT  *** Column names ***                                                   \n",
        "COMMENT                                                                         \n",
        "TTYPE1  = 'ID      '           /                                                \n",
        "TTYPE2  = 'X       '           /                                                \n",
        "TTYPE3  = 'Y       '           /                                                \n",
        "TTYPE4  = 'E1      '           /                                                \n",
        "TTYPE5  = 'E2      '           /                                                \n",
        "TTYPE6  = 'DE      '           /                                                \n",
        "TTYPE7  = 'FLUX_RADIUS'        /                                                \n",
        "TTYPE8  = 'A       '           /                                                \n",
        "TTYPE9  = 'B       '           /                                                \n",
        "TTYPE10 = 'THETA   '           /                                                \n",
        "TTYPE11 = 'STATUS  '           /                                                \n",
        "TTYPE12 = 'RA      '           /                                                \n",
        "TTYPE13 = 'DEC     '           /                                                \n",
        "TTYPE14 = 'FLAG    '           /                                                \n",
        "TTYPE15 = 'MERR    '           /                                                \n",
        "COMMENT                                                                         \n",
        "COMMENT  *** Column formats ***                                                 \n",
        "COMMENT                                                                         \n",
        "TFORM1  = 'J       '           /                                                \n",
        "TFORM2  = 'E       '           /                                                \n",
        "TFORM3  = 'E       '           /                                                \n",
        "TFORM4  = 'E       '           /                                                \n",
        "TFORM5  = 'E       '           /                                                \n",
        "TFORM6  = 'E       '           /                                                \n",
        "TFORM7  = 'E       '           /                                                \n",
        "TFORM8  = 'E       '           /                                                \n",
        "TFORM9  = 'E       '           /                                                \n",
        "TFORM10 = 'E       '           /                                                \n",
        "TFORM11 = 'I       '           /                                                \n",
        "TFORM12 = 'E       '           /                                                \n",
        "TFORM13 = 'E       '           /                                                \n",
        "TFORM14 = 'I       '           /                                                \n",
        "TFORM15 = 'E       '           /                                                "
       ]
      }
     ],
     "prompt_number": 16
    },
    {
     "cell_type": "code",
     "collapsed": false,
     "input": [
      "NE_814shapes = pd.DataFrame(NE814shape[1].data.tolist(), \n",
      "                            columns=NE814shape[1].data.dtype.names)\n",
      "SW_814shapes = pd.DataFrame(SW814shape[1].data.tolist(), \n",
      "                            columns=NE814shape[1].data.dtype.names)"
     ],
     "language": "python",
     "metadata": {},
     "outputs": [],
     "prompt_number": 18
    },
    {
     "cell_type": "markdown",
     "metadata": {},
     "source": [
      "Questions to ask James about: \n",
      "\n",
      "Anything greater than 0.3 should be trashed"
     ]
    },
    {
     "cell_type": "code",
     "collapsed": false,
     "input": [
      "SW_814shapes[\"status\"].describe()"
     ],
     "language": "python",
     "metadata": {},
     "outputs": []
    },
    {
     "cell_type": "code",
     "collapsed": false,
     "input": [
      "3"
     ],
     "language": "python",
     "metadata": {},
     "outputs": []
    }
   ],
   "metadata": {}
  }
 ]
}